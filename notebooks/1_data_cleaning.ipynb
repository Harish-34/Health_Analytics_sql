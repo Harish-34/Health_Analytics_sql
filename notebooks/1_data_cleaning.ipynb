{
 "cells": [
  {
   "cell_type": "markdown",
   "id": "216e3b4d",
   "metadata": {},
   "source": [
    "# 🧼 Healthcare Data Cleaning Notebook\n",
    "\n",
    "This notebook performs basic data cleaning operations on the raw healthcare CSV files.\n",
    "\n",
    "**Steps:**\n",
    "- Load all raw data from `data/datasets/`\n",
    "- Clean column names (remove spaces, special characters)\n",
    "- Handle missing values (fill with `'NA'`)\n",
    "- Drop duplicates\n",
    "- Export cleaned files to `data/outputs/`"
   ]
  },
  {
   "cell_type": "code",
   "execution_count": 2,
   "id": "d8787e17",
   "metadata": {},
   "outputs": [],
   "source": [
    "import pandas as pd\n",
    "import os\n",
    "\n",
    "input_dir = \"../data/datasets/\"\n",
    "output_dir = \"../data/outputs/\"\n",
    "os.makedirs(output_dir, exist_ok=True)"
   ]
  },
  {
   "cell_type": "markdown",
   "id": "86ed6018",
   "metadata": {},
   "source": [
    "## 📄 Step 1: Define list of raw CSV files to clean"
   ]
  },
  {
   "cell_type": "code",
   "execution_count": 3,
   "id": "fb32f300",
   "metadata": {},
   "outputs": [],
   "source": [
    "files = [\n",
    "    \"FactTable.csv\",\n",
    "    \"DimPatient.csv\",\n",
    "    \"DimPhysician.csv\",\n",
    "    \"DimSpeciality.csv\",\n",
    "    \"DimHospital.csv\",\n",
    "    \"DimPayer.csv\",\n",
    "    \"DimCptCode.csv\",\n",
    "    \"DimDiagnosisCode.csv\",\n",
    "    \"DimDate.csv\",\n",
    "    \"DimTransaction.csv\"\n",
    "]"
   ]
  },
  {
   "cell_type": "markdown",
   "id": "4c9d125e",
   "metadata": {},
   "source": [
    "## 🧽 Step 2: Define a function to clean column names\n",
    "- Replaces spaces, dashes, and parentheses with underscores"
   ]
  },
  {
   "cell_type": "code",
   "execution_count": 4,
   "id": "ad534a07",
   "metadata": {},
   "outputs": [],
   "source": [
    "def clean_column(col):\n",
    "    return col.strip().replace(\" \", \"_\").replace(\"(\", \"\").replace(\")\", \"\").replace(\"-\", \"_\")"
   ]
  },
  {
   "cell_type": "markdown",
   "id": "8a7abc79",
   "metadata": {},
   "source": [
    "## 🧹 Step 3: Loop through each file\n",
    "- Read, clean, handle nulls, drop duplicates\n",
    "- Save cleaned file to `data/outputs/`"
   ]
  },
  {
   "cell_type": "code",
   "execution_count": 15,
   "id": "8259ad30",
   "metadata": {},
   "outputs": [
    {
     "name": "stderr",
     "output_type": "stream",
     "text": [
      "C:\\Users\\91837\\AppData\\Local\\Temp\\ipykernel_2016\\1826177639.py:3: DtypeWarning: Columns (14) have mixed types. Specify dtype option on import or set low_memory=False.\n",
      "  df = pd.read_csv(os.path.join(input_dir, file))\n"
     ]
    },
    {
     "name": "stdout",
     "output_type": "stream",
     "text": [
      "✅ Cleaned and saved: cleaned_FactTable.csv\n",
      "✅ Cleaned and saved: cleaned_DimPatient.csv\n",
      "✅ Cleaned and saved: cleaned_DimPhysician.csv\n",
      "✅ Cleaned and saved: cleaned_DimSpeciality.csv\n",
      "✅ Cleaned and saved: cleaned_DimHospital.csv\n",
      "✅ Cleaned and saved: cleaned_DimPayer.csv\n",
      "✅ Cleaned and saved: cleaned_DimCptCode.csv\n",
      "✅ Cleaned and saved: cleaned_DimDiagnosisCode.csv\n",
      "✅ Cleaned and saved: cleaned_DimDate.csv\n",
      "✅ Cleaned and saved: cleaned_DimTransaction.csv\n"
     ]
    }
   ],
   "source": [
    "for file in files:\n",
    "    try:\n",
    "        df = pd.read_csv(os.path.join(input_dir, file))\n",
    "        df.columns = [clean_column(c) for c in df.columns]\n",
    "\n",
    "        df.drop_duplicates(inplace=True)\n",
    "        df.fillna(\"NA\", inplace=True)\n",
    "\n",
    "        # ✅ Convert and fix DimDate\n",
    "        if file == \"DimDate.csv\":\n",
    "            for col in df.columns:\n",
    "                if \"date\" in col.lower():\n",
    "                    try:\n",
    "                        df[col] = pd.to_datetime(df[col], dayfirst=True).dt.strftime('%Y-%m-%d')\n",
    "                    except Exception as e:\n",
    "                        print(f\"Date conversion failed for {col}: {e}\")\n",
    "            if \"Month\" in df.columns:\n",
    "                try:\n",
    "                    df[\"Month\"] = pd.to_datetime(df[\"Date\"]).dt.month\n",
    "                except Exception as e:\n",
    "                    print(f\"Month conversion failed: {e}\")\n",
    "\n",
    "        # ✅ Convert and fix FactTable\n",
    "        if file == \"FactTable.csv\":\n",
    "            df.replace({\"#NUM!\": 0, \"#DIV/0!\": 0}, inplace=True)\n",
    "            for col in df.columns:\n",
    "                if \"date\" in col.lower():\n",
    "                    try:\n",
    "                        df[col] = pd.to_datetime(df[col], errors='coerce', dayfirst=True).dt.strftime('%Y-%m-%d')\n",
    "                    except Exception as e:\n",
    "                        print(f\"❌ Failed to convert {col}: {e}\")\n",
    "\n",
    "\n",
    "        # ✅ Save after conversion\n",
    "        cleaned_filename = \"cleaned_\" + file\n",
    "        df.to_csv(os.path.join(output_dir, cleaned_filename), index=False)\n",
    "        print(f\"✅ Cleaned and saved: {cleaned_filename}\")\n",
    "\n",
    "    except Exception as e:\n",
    "        print(f\"❌ Error processing {file}: {e}\")"
   ]
  },
  {
   "cell_type": "markdown",
   "id": "c05104b2",
   "metadata": {},
   "source": []
  }
 ],
 "metadata": {
  "kernelspec": {
   "display_name": "base",
   "language": "python",
   "name": "python3"
  },
  "language_info": {
   "codemirror_mode": {
    "name": "ipython",
    "version": 3
   },
   "file_extension": ".py",
   "mimetype": "text/x-python",
   "name": "python",
   "nbconvert_exporter": "python",
   "pygments_lexer": "ipython3",
   "version": "3.12.4"
  }
 },
 "nbformat": 4,
 "nbformat_minor": 5
}
