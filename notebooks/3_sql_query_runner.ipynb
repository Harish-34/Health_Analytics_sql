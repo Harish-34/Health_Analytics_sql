{
 "cells": [
  {
   "cell_type": "markdown",
   "id": "d8258804",
   "metadata": {},
   "source": [
    "# 🧪 3_sql_query_runner.ipynb: Run SQL Queries from Python\n",
    "\n",
    "**Goal:**  \n",
    "Connect to PostgreSQL DB, run `.sql` files from the `business_problems_outcomes/` folder, and save output CSVs.\n",
    "\n",
    "---"
   ]
  },
  {
   "cell_type": "code",
   "execution_count": 1,
   "id": "4ef50b63",
   "metadata": {},
   "outputs": [
    {
     "name": "stdout",
     "output_type": "stream",
     "text": [
      "✅ Connected to PostgreSQL\n",
      "🔍 Running: 01_top_cpt_costs.sql\n"
     ]
    },
    {
     "name": "stderr",
     "output_type": "stream",
     "text": [
      "C:\\Users\\91837\\AppData\\Local\\Temp\\ipykernel_21388\\981458567.py:29: UserWarning: pandas only supports SQLAlchemy connectable (engine/connection) or database string URI or sqlite3 DBAPI2 connection. Other DBAPI2 objects are not tested. Please consider using SQLAlchemy.\n",
      "  df = pd.read_sql_query(query, conn)\n"
     ]
    },
    {
     "name": "stdout",
     "output_type": "stream",
     "text": [
      "✅ Saved: result_01_top_cpt_costs.csv\n",
      "🔍 Running: 02_avg_insurance_coverage.sql\n",
      "✅ Saved: result_02_avg_insurance_coverage.csv\n",
      "🔍 Running: 03_insurance_vs_oop_ratio.sql\n",
      "✅ Saved: result_03_insurance_vs_oop_ratio.csv\n",
      "🔍 Running: 04_patients_without_insurance.sql\n",
      "✅ Saved: result_04_patients_without_insurance.csv\n",
      "🔍 Running: 05_payers_most_claims_least_payment.sql\n",
      "✅ Saved: result_05_payers_most_claims_least_payment.csv\n",
      "🔍 Running: 06_avg_patient_payment_by_state.sql\n",
      "✅ Saved: result_06_avg_patient_payment_by_state.csv\n",
      "🔍 Running: 07_avg_claim_cost_by_gender.sql\n",
      "✅ Saved: result_07_avg_claim_cost_by_gender.csv\n",
      "🔍 Running: 08_top_states_by_oop_percent.sql\n",
      "✅ Saved: result_08_top_states_by_oop_percent.csv\n",
      "🔍 Running: 09_readmission_detection.sql\n",
      "✅ Saved: result_09_readmission_detection.csv\n",
      "🔍 Running: 10_monthly_claim_trend.sql\n",
      "✅ Saved: result_10_monthly_claim_trend.csv\n",
      "🔍 Running: 11_physician_cost_efficiency.sql\n",
      "✅ Saved: result_11_physician_cost_efficiency.csv\n",
      "🔍 Running: 12_claim_volume_by_specialty.sql\n",
      "✅ Saved: result_12_claim_volume_by_specialty.csv\n",
      "🔍 Running: 13_top_expensive_specialties.sql\n",
      "✅ Saved: result_13_top_expensive_specialties.csv\n",
      "🔍 Running: 14_diagnosis_claim_volume_avg_ar.sql\n",
      "✅ Saved: result_14_diagnosis_claim_volume_avg_ar.csv\n",
      "🔍 Running: 15_top_diagnosis_by_highest_ar.sql\n",
      "✅ Saved: result_15_top_diagnosis_by_highest_ar.csv\n",
      "🔍 Running: 16_monthly_claims_payout_trend.sql\n",
      "✅ Saved: result_16_monthly_claims_payout_trend.csv\n",
      "🔍 Running: 17_top_hospitals_by_patients.sql\n",
      "✅ Saved: result_17_top_hospitals_by_patients.csv\n",
      "🔍 Running: 18_delayed_postings_count.sql\n",
      "✅ Saved: result_18_delayed_postings_count.csv\n",
      "🔍 Running: 19_avg_cpt_units_by_grouping.sql\n",
      "✅ Saved: result_19_avg_cpt_units_by_grouping.csv\n",
      "🔍 Running: 20_diagnosis_with_most_adjustments.sql\n",
      "✅ Saved: result_20_diagnosis_with_most_adjustments.csv\n",
      "🔚 PostgreSQL connection closed.\n"
     ]
    }
   ],
   "source": [
    "import psycopg2\n",
    "import pandas as pd\n",
    "import os\n",
    "\n",
    "# PostgreSQL Connection Setup\n",
    "conn = psycopg2.connect(\n",
    "    host=\"localhost\",\n",
    "    port=\"5432\",\n",
    "    dbname=\"Health_DataBase\",\n",
    "    user=\"postgres\",\n",
    "    password=\"postgres\"  \n",
    ")\n",
    "cursor = conn.cursor()\n",
    "print(\"✅ Connected to PostgreSQL\")\n",
    "\n",
    "# Input/Output Directories\n",
    "query_dir = \"../business_problems_outcomes/\"\n",
    "output_dir = \"../outputs/csvs/\"\n",
    "os.makedirs(output_dir, exist_ok=True)\n",
    "\n",
    "# Run each .sql file and export CSV\n",
    "for file in sorted(os.listdir(query_dir)):\n",
    "    if file.endswith(\".sql\"):\n",
    "        sql_path = os.path.join(query_dir, file)\n",
    "        with open(sql_path, \"r\") as f:\n",
    "            query = f.read()\n",
    "        \n",
    "        print(f\"🔍 Running: {file}\")\n",
    "        df = pd.read_sql_query(query, conn)\n",
    "        \n",
    "        csv_name = \"result_\" + file.replace(\".sql\", \".csv\")\n",
    "        df.to_csv(os.path.join(output_dir, csv_name), index=False)\n",
    "        print(f\"✅ Saved: {csv_name}\")\n",
    "\n",
    "cursor.close()\n",
    "conn.close()\n",
    "print(\"🔚 PostgreSQL connection closed.\")"
   ]
  }
 ],
 "metadata": {
  "kernelspec": {
   "display_name": "base",
   "language": "python",
   "name": "python3"
  },
  "language_info": {
   "codemirror_mode": {
    "name": "ipython",
    "version": 3
   },
   "file_extension": ".py",
   "mimetype": "text/x-python",
   "name": "python",
   "nbconvert_exporter": "python",
   "pygments_lexer": "ipython3",
   "version": "3.12.4"
  }
 },
 "nbformat": 4,
 "nbformat_minor": 5
}
